{
 "cells": [
  {
   "cell_type": "markdown",
   "id": "7504e274-9845-4373-9b42-9a6e3c3b2a9f",
   "metadata": {},
   "source": [
    "*In general, women speak at a higher pitch—about an octave higher than men. \\\n",
    "An adult woman's average range is from 165 to 255 Hz, while a man's is 85 to 155 Hz*"
   ]
  },
  {
   "cell_type": "code",
   "execution_count": 5,
   "id": "c6f175e7-b9b4-499e-b42d-c0b6ff73c4f2",
   "metadata": {},
   "outputs": [],
   "source": [
    "import pandas as pd\n",
    "import numpy as np\n",
    "import seaborn as sns\n",
    "import librosa \n",
    "from glob import glob\n",
    "\n",
    "import matplotlib.pyplot as plt\n",
    "\n",
    "%matplotlib inline"
   ]
  },
  {
   "cell_type": "code",
   "execution_count": 2,
   "id": "77229851-e546-4d38-80b5-7ab58de92686",
   "metadata": {},
   "outputs": [
    {
     "name": "stdout",
     "output_type": "stream",
     "text": [
      "Total number of labels: 13936\n",
      "Number of male: 7620\n",
      "Number of female: 6316\n"
     ]
    },
    {
     "data": {
      "text/html": [
       "<div>\n",
       "<style scoped>\n",
       "    .dataframe tbody tr th:only-of-type {\n",
       "        vertical-align: middle;\n",
       "    }\n",
       "\n",
       "    .dataframe tbody tr th {\n",
       "        vertical-align: top;\n",
       "    }\n",
       "\n",
       "    .dataframe thead th {\n",
       "        text-align: right;\n",
       "    }\n",
       "</style>\n",
       "<table border=\"1\" class=\"dataframe\">\n",
       "  <thead>\n",
       "    <tr style=\"text-align: right;\">\n",
       "      <th></th>\n",
       "      <th>id</th>\n",
       "      <th>gender</th>\n",
       "    </tr>\n",
       "  </thead>\n",
       "  <tbody>\n",
       "    <tr>\n",
       "      <th>0</th>\n",
       "      <td>5d1f7e43366513a1d0a6ec5640c3dc24</td>\n",
       "      <td>1</td>\n",
       "    </tr>\n",
       "    <tr>\n",
       "      <th>1</th>\n",
       "      <td>9a701a4536a05b6610a590a9fe702ed8</td>\n",
       "      <td>1</td>\n",
       "    </tr>\n",
       "    <tr>\n",
       "      <th>2</th>\n",
       "      <td>cad0b8547008d1524c1a0e5fd51f9908</td>\n",
       "      <td>1</td>\n",
       "    </tr>\n",
       "    <tr>\n",
       "      <th>3</th>\n",
       "      <td>4bbe607e7dc95460e2cc1a6ee5f4dfa6</td>\n",
       "      <td>0</td>\n",
       "    </tr>\n",
       "    <tr>\n",
       "      <th>4</th>\n",
       "      <td>30fb32cba90b34af26f3f14f5d636805</td>\n",
       "      <td>0</td>\n",
       "    </tr>\n",
       "  </tbody>\n",
       "</table>\n",
       "</div>"
      ],
      "text/plain": [
       "                                 id  gender\n",
       "0  5d1f7e43366513a1d0a6ec5640c3dc24       1\n",
       "1  9a701a4536a05b6610a590a9fe702ed8       1\n",
       "2  cad0b8547008d1524c1a0e5fd51f9908       1\n",
       "3  4bbe607e7dc95460e2cc1a6ee5f4dfa6       0\n",
       "4  30fb32cba90b34af26f3f14f5d636805       0"
      ]
     },
     "execution_count": 2,
     "metadata": {},
     "output_type": "execute_result"
    }
   ],
   "source": [
    "df = pd.read_csv(r\"C:\\Users\\admin\\Desktop\\datasets\\male and female voices\\train\\train\\targets.tsv\", sep='\\t', \\\n",
    "                      names=['id', 'gender'])\n",
    "\n",
    "\n",
    "print(\"Total number of labels: {}\".format(df.shape[0]))\n",
    "print(\"Number of male: {}\".format(df[df.gender == 0].shape[0]))\n",
    "print(\"Number of female: {}\".format(df[df.gender == 1].shape[0]))\n",
    "df.head()"
   ]
  },
  {
   "cell_type": "code",
   "execution_count": 6,
   "id": "138f5758-9d7e-42c4-8205-76b2d38cd588",
   "metadata": {},
   "outputs": [],
   "source": [
    "audio_files = glob(\"male and female voices\\\\train\\\\*\\\\*.wav\")\n",
    "y, sr = librosa.load(audio_files[4])\n",
    "y, _ = librosa.effects.trim(y, top_db=20)\n",
    "f0 = librosa.pyin(y, fmin=librosa.note_to_hz('C2'), fmax=librosa.note_to_hz('C7'))[0]"
   ]
  },
  {
   "cell_type": "code",
   "execution_count": 7,
   "id": "2c471216-be22-40bc-b321-0523dd40e54c",
   "metadata": {},
   "outputs": [
    {
     "data": {
      "text/plain": [
       "array([         nan, 133.09934981, 133.8703865 , 136.21039964,\n",
       "       138.59131549, 137.79308825, 137.79308825, 137.79308825,\n",
       "       151.13490122, 146.83238396, 145.98669166, 136.21039964,\n",
       "       133.09934981, 133.09934981, 132.33275397, 131.57057339,\n",
       "       130.81278265, 125.62905732, 124.18608453, 124.18608453,\n",
       "       124.18608453, 123.47082531,          nan,          nan])"
      ]
     },
     "execution_count": 7,
     "metadata": {},
     "output_type": "execute_result"
    }
   ],
   "source": [
    "f0"
   ]
  },
  {
   "cell_type": "code",
   "execution_count": 8,
   "id": "613cc15f-97ab-4865-9947-7f76b2c2a575",
   "metadata": {},
   "outputs": [
    {
     "name": "stdout",
     "output_type": "stream",
     "text": [
      "0\n"
     ]
    },
    {
     "name": "stderr",
     "output_type": "stream",
     "text": [
      "C:\\Users\\admin\\AppData\\Local\\Temp\\ipykernel_2360\\513765442.py:8: RuntimeWarning: Mean of empty slice\n",
      "  if not np.isnan(np.nanmean(f0)):\n"
     ]
    },
    {
     "name": "stdout",
     "output_type": "stream",
     "text": [
      "100\n",
      "200\n",
      "300\n",
      "400\n",
      "500\n"
     ]
    }
   ],
   "source": [
    "male, female = [], []\n",
    "for index, row in df.iterrows():\n",
    "    path = \"male and female voices\\\\train\\\\train\\\\{}.wav\".format(str(row['id']))\n",
    "    y, sr = librosa.load(path)\n",
    "    y, _ = librosa.effects.trim(y, top_db=20)\n",
    "    f0 = librosa.pyin(y, fmin=librosa.note_to_hz('C2'), fmax=librosa.note_to_hz('C7'))[0]\n",
    "    if row['gender'] == 0:\n",
    "        if not np.isnan(np.nanmean(f0)):\n",
    "            male.append(np.nanmean(f0))\n",
    "    if row['gender'] == 1:\n",
    "        if not np.isnan(np.nanmean(f0)):\n",
    "            female.append(np.nanmean(f0))\n",
    "    if index % 100 == 0:\n",
    "        print(index)\n",
    "    if index == 500:\n",
    "        break"
   ]
  },
  {
   "cell_type": "code",
   "execution_count": 30,
   "id": "23aff852-07a1-4e6e-a976-b3cf1abf16d3",
   "metadata": {},
   "outputs": [
    {
     "data": {
      "text/plain": [
       "(146.38487923470598, 227.74656984636752)"
      ]
     },
     "execution_count": 30,
     "metadata": {},
     "output_type": "execute_result"
    }
   ],
   "source": [
    "# average fundamental frequency of male and female voices\n",
    "f0male = np.asarray(male).mean()\n",
    "f0female = np.asarray(female).mean()\n",
    "f0male, f0female"
   ]
  },
  {
   "cell_type": "code",
   "execution_count": 31,
   "id": "c005ef25-1aa8-41e3-b714-a3d8ce5c28ca",
   "metadata": {},
   "outputs": [
    {
     "name": "stdout",
     "output_type": "stream",
     "text": [
      "false positive/false negative rate:  0.07749077490774908 0.12334801762114538\n",
      "accuracy: 0.9016064257028112\n"
     ]
    }
   ],
   "source": [
    "false_m = 0\n",
    "false_f = 0\n",
    "for f in male:\n",
    "    if f > (f0female + f0male) / 2:\n",
    "        false_m += 1\n",
    "\n",
    "for f in female:\n",
    "    if f < (f0female + f0male) / 2:\n",
    "        false_f += 1\n",
    "\n",
    "print(\"false positive/false negative rate: \", false_m / len(male), false_f / len(female))\n",
    "print(\"accuracy: {}\".format(1 - (false_m + false_f) / (len(male) + len(female))))"
   ]
  },
  {
   "cell_type": "code",
   "execution_count": null,
   "id": "9e3eff2b-641c-4017-acc8-c2102bb1cb47",
   "metadata": {},
   "outputs": [],
   "source": []
  }
 ],
 "metadata": {
  "kernelspec": {
   "display_name": "Python 3 (ipykernel)",
   "language": "python",
   "name": "python3"
  },
  "language_info": {
   "codemirror_mode": {
    "name": "ipython",
    "version": 3
   },
   "file_extension": ".py",
   "mimetype": "text/x-python",
   "name": "python",
   "nbconvert_exporter": "python",
   "pygments_lexer": "ipython3",
   "version": "3.9.7"
  }
 },
 "nbformat": 4,
 "nbformat_minor": 5
}
