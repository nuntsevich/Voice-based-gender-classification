{
 "cells": [
  {
   "cell_type": "code",
   "execution_count": 1,
   "id": "8eaca5b2-bcf5-403d-8248-c2495bd60684",
   "metadata": {},
   "outputs": [],
   "source": [
    "import matplotlib.pyplot as plt\n",
    "%matplotlib inline\n",
    "from datetime import datetime\n",
    "\n",
    "import pandas as pd\n",
    "import numpy as np\n",
    "import seaborn as sns\n",
    "\n",
    "from PIL import Image\n",
    "\n",
    "import torch\n",
    "import torchvision\n",
    "from torch import nn\n",
    "from torch.utils.tensorboard import SummaryWriter\n",
    "dtype = torch.float\n",
    "device = torch.device(\"cpu\")"
   ]
  },
  {
   "cell_type": "code",
   "execution_count": 2,
   "id": "aae06391-a713-43f8-b231-a0ebbe107008",
   "metadata": {},
   "outputs": [
    {
     "data": {
      "text/html": [
       "<div>\n",
       "<style scoped>\n",
       "    .dataframe tbody tr th:only-of-type {\n",
       "        vertical-align: middle;\n",
       "    }\n",
       "\n",
       "    .dataframe tbody tr th {\n",
       "        vertical-align: top;\n",
       "    }\n",
       "\n",
       "    .dataframe thead th {\n",
       "        text-align: right;\n",
       "    }\n",
       "</style>\n",
       "<table border=\"1\" class=\"dataframe\">\n",
       "  <thead>\n",
       "    <tr style=\"text-align: right;\">\n",
       "      <th></th>\n",
       "      <th>id</th>\n",
       "      <th>gender</th>\n",
       "    </tr>\n",
       "  </thead>\n",
       "  <tbody>\n",
       "    <tr>\n",
       "      <th>0</th>\n",
       "      <td>5d1f7e43366513a1d0a6ec5640c3dc24</td>\n",
       "      <td>1</td>\n",
       "    </tr>\n",
       "    <tr>\n",
       "      <th>1</th>\n",
       "      <td>9a701a4536a05b6610a590a9fe702ed8</td>\n",
       "      <td>1</td>\n",
       "    </tr>\n",
       "    <tr>\n",
       "      <th>2</th>\n",
       "      <td>cad0b8547008d1524c1a0e5fd51f9908</td>\n",
       "      <td>1</td>\n",
       "    </tr>\n",
       "    <tr>\n",
       "      <th>3</th>\n",
       "      <td>4bbe607e7dc95460e2cc1a6ee5f4dfa6</td>\n",
       "      <td>0</td>\n",
       "    </tr>\n",
       "    <tr>\n",
       "      <th>4</th>\n",
       "      <td>30fb32cba90b34af26f3f14f5d636805</td>\n",
       "      <td>0</td>\n",
       "    </tr>\n",
       "  </tbody>\n",
       "</table>\n",
       "</div>"
      ],
      "text/plain": [
       "                                 id  gender\n",
       "0  5d1f7e43366513a1d0a6ec5640c3dc24       1\n",
       "1  9a701a4536a05b6610a590a9fe702ed8       1\n",
       "2  cad0b8547008d1524c1a0e5fd51f9908       1\n",
       "3  4bbe607e7dc95460e2cc1a6ee5f4dfa6       0\n",
       "4  30fb32cba90b34af26f3f14f5d636805       0"
      ]
     },
     "execution_count": 2,
     "metadata": {},
     "output_type": "execute_result"
    }
   ],
   "source": [
    "df = pd.read_csv(r\"male and female voices\\train\\train\\targets.tsv\", sep='\\t', \\\n",
    "                      names=['id', 'gender'])\n",
    " \n",
    "df.head()"
   ]
  },
  {
   "cell_type": "code",
   "execution_count": 3,
   "id": "6458a772-1fe4-43dc-906b-cc0e3a6ff852",
   "metadata": {
    "scrolled": true
   },
   "outputs": [],
   "source": [
    "model = torchvision.models.resnet34(weights='DEFAULT')\n",
    "model.fc = nn.Linear(512, 1)\n",
    "model = nn.Sequential(\n",
    "    model,\n",
    "    nn.Sigmoid()\n",
    ")\n",
    "\n",
    "loss_fn = torch.nn.BCELoss()"
   ]
  },
  {
   "cell_type": "code",
   "execution_count": 4,
   "id": "8e43b29c-c715-442f-82a8-4a2333d86b1f",
   "metadata": {
    "scrolled": true
   },
   "outputs": [],
   "source": [
    "PATH = 'mfcc\\\\train\\\\train\\\\'\n",
    "convert_tensor = torchvision.transforms.ToTensor()\n",
    "\n",
    "x = Image.open(PATH + df.iloc[1]['id'] + '.jpg')\n",
    "x = convert_tensor(x)\n",
    "x = x[None, :]\n",
    "y = df.iloc[0]['gender']\n",
    "y = torch.tensor([y,], dtype=torch.float)\n",
    "y = y[None, :]\n",
    "\n",
    "model_out = model(x)\n",
    "loss = loss_fn(model_out, y)"
   ]
  },
  {
   "cell_type": "code",
   "execution_count": 5,
   "id": "b37aaf53-978e-4749-92ae-eca11d5462c5",
   "metadata": {},
   "outputs": [
    {
     "name": "stdout",
     "output_type": "stream",
     "text": [
      "tensor(1.)\n",
      "tensor(0.6172, grad_fn=<SelectBackward0>)\n",
      "tensor(0.4826, grad_fn=<BinaryCrossEntropyBackward0>)\n"
     ]
    }
   ],
   "source": [
    "print(y[0, 0])\n",
    "print(model_out[0, 0])\n",
    "print(loss)"
   ]
  },
  {
   "cell_type": "code",
   "execution_count": 7,
   "id": "09394a20-324b-4576-a74f-6a298e13dbfc",
   "metadata": {},
   "outputs": [],
   "source": [
    "from torch.utils.data import Dataset, DataLoader\n",
    "\n",
    "class JpgDataset(Dataset):\n",
    "     def __init__(self, df):\n",
    "         super(Dataset, self).__init__()\n",
    "         self.PATH = 'mfcc\\\\train\\\\train\\\\'\n",
    "         self.df = df\n",
    "        \n",
    "     def __len__(self):\n",
    "         return len(self.df)\n",
    "        \n",
    "     def __getitem__(self, index):\n",
    "        convert_tensor = torchvision.transforms.ToTensor()\n",
    "        \n",
    "        x = Image.open(self.PATH + df.iloc[index]['id'] + '.jpg')\n",
    "        x = convert_tensor(x)\n",
    "         \n",
    "        y = df.iloc[index]['gender']\n",
    "        y = torch.tensor([y,], dtype=torch.float)\n",
    "         \n",
    "        return x, y"
   ]
  },
  {
   "cell_type": "code",
   "execution_count": 8,
   "id": "6f2fc2d1-4bee-44a5-8d7f-cf114e15ac70",
   "metadata": {},
   "outputs": [],
   "source": [
    "dataset = JpgDataset(df)"
   ]
  },
  {
   "cell_type": "code",
   "execution_count": 9,
   "id": "06be2d8c-f0b0-49fe-839f-1c99ef593456",
   "metadata": {
    "scrolled": true
   },
   "outputs": [
    {
     "name": "stdout",
     "output_type": "stream",
     "text": [
      "11149 2787\n"
     ]
    }
   ],
   "source": [
    "train_dataset, val_dataset = torch.utils.data.random_split(dataset, [0.8, 0.2])\n",
    "print(len(train_dataset), len(val_dataset))"
   ]
  },
  {
   "cell_type": "code",
   "execution_count": 22,
   "id": "274f2af6-19f1-44d5-bf91-162dcf58e448",
   "metadata": {},
   "outputs": [],
   "source": [
    "train_loader = DataLoader(\n",
    "    train_dataset,\n",
    "    batch_size=32,\n",
    "    shuffle=True,\n",
    "    num_workers=0,\n",
    "    collate_fn=None,\n",
    "    pin_memory=False,\n",
    " )\n",
    "\n",
    "validation_loader = DataLoader(\n",
    "    val_dataset,\n",
    "    batch_size=32,\n",
    "    shuffle=False,\n",
    "    num_workers=0,\n",
    "    collate_fn=None,\n",
    "    pin_memory=False,\n",
    " )"
   ]
  },
  {
   "cell_type": "code",
   "execution_count": 23,
   "id": "5244d708-7b63-485e-be60-3f2438b6de5b",
   "metadata": {},
   "outputs": [
    {
     "data": {
      "text/plain": [
       "(torch.Size([32, 3, 224, 224]), torch.Size([32, 1]))"
      ]
     },
     "execution_count": 23,
     "metadata": {},
     "output_type": "execute_result"
    }
   ],
   "source": [
    "train_features, train_labels = next(iter(train_loader))\n",
    "train_features.shape, train_labels.shape"
   ]
  },
  {
   "cell_type": "code",
   "execution_count": 24,
   "id": "f6d0d5e6-a468-43d6-9bd8-7e933610b9d6",
   "metadata": {},
   "outputs": [],
   "source": [
    "optimizer = torch.optim.SGD(model.parameters(), lr=1e-3, momentum=0.9)"
   ]
  },
  {
   "cell_type": "code",
   "execution_count": 25,
   "id": "b72c52e5-6403-49ac-a4dc-bee330afb116",
   "metadata": {},
   "outputs": [],
   "source": [
    "def train_one_epoch(epoch_index, tb_writer):\n",
    "    running_loss = 0.\n",
    "    last_loss = 0.\n",
    "\n",
    "    # Here, we use enumerate(training_loader) instead of\n",
    "    # iter(training_loader) so that we can track the batch\n",
    "    # index and do some intra-epoch reporting\n",
    "    for i, data in enumerate(train_loader):\n",
    "        # Every data instance is an input + label pair\n",
    "        inputs, labels = data\n",
    "\n",
    "        # Zero your gradients for every batch!\n",
    "        optimizer.zero_grad()\n",
    "\n",
    "        # Make predictions for this batch\n",
    "        outputs = model(inputs)\n",
    "\n",
    "        # Compute the loss and its gradients\n",
    "        loss = loss_fn(outputs, labels)\n",
    "        loss.backward()\n",
    "\n",
    "        # Adjust learning weights\n",
    "        optimizer.step()\n",
    "\n",
    "        # Gather data and report\n",
    "        running_loss += loss.item()\n",
    "        if i % 20 == 0 and i > 0:\n",
    "            last_loss = running_loss / 20 # loss per batch\n",
    "            print('  batch {} loss: {}'.format(i, last_loss))\n",
    "            tb_x = epoch_index * len(train_loader) + i\n",
    "            tb_writer.add_scalar('Loss/train', last_loss, tb_x)\n",
    "            running_loss = 0.\n",
    "\n",
    "    return last_loss"
   ]
  },
  {
   "cell_type": "code",
   "execution_count": 26,
   "id": "8add2213-0d34-4cd4-8328-8c0ecb64912b",
   "metadata": {
    "scrolled": true
   },
   "outputs": [
    {
     "name": "stdout",
     "output_type": "stream",
     "text": [
      "EPOCH 1:\n",
      "  batch 20 loss: 0.04495586771517992\n",
      "  batch 40 loss: 0.031232540705241264\n",
      "  batch 60 loss: 0.03658239771611989\n",
      "  batch 80 loss: 0.04373718770220876\n",
      "  batch 100 loss: 0.03901425050571561\n",
      "  batch 120 loss: 0.029875687672756612\n",
      "  batch 140 loss: 0.047041407856158915\n",
      "  batch 160 loss: 0.029163155891001224\n",
      "  batch 180 loss: 0.036206843936815856\n",
      "  batch 200 loss: 0.02235777131281793\n",
      "  batch 220 loss: 0.02238837619079277\n",
      "  batch 240 loss: 0.03694824620615691\n",
      "  batch 260 loss: 0.0263868891983293\n",
      "  batch 280 loss: 0.028784834139514714\n",
      "  batch 300 loss: 0.04276459641987458\n",
      "  batch 320 loss: 0.02133773671230301\n",
      "  batch 340 loss: 0.04827359323389828\n",
      "LOSS train 0.04827359323389828 valid 0.04163802042603493\n"
     ]
    }
   ],
   "source": [
    "# Initializing in a separate cell so we can easily add more epochs to the same run\n",
    "timestamp = datetime.now().strftime('%Y%m%d_%H%M%S')\n",
    "writer = SummaryWriter('runs/fashion_trainer_{}'.format(timestamp))\n",
    "epoch_number = 0\n",
    "\n",
    "EPOCHS = 1\n",
    "\n",
    "best_vloss = 1_000_000.\n",
    "\n",
    "for epoch in range(EPOCHS):\n",
    "    print('EPOCH {}:'.format(epoch_number + 1))\n",
    "\n",
    "    # Make sure gradient tracking is on, and do a pass over the data\n",
    "    model.train(True)\n",
    "    avg_loss = train_one_epoch(epoch_number, writer)\n",
    "\n",
    "\n",
    "    running_vloss = 0.0\n",
    "    # Set the model to evaluation mode, disabling dropout and using population\n",
    "    # statistics for batch normalization.\n",
    "    model.eval()\n",
    "\n",
    "    # Disable gradient computation and reduce memory consumption.\n",
    "    with torch.no_grad():\n",
    "        for i, vdata in enumerate(validation_loader):\n",
    "            vinputs, vlabels = vdata\n",
    "            voutputs = model(vinputs)\n",
    "            vloss = loss_fn(voutputs, vlabels)\n",
    "            running_vloss += vloss\n",
    "\n",
    "    avg_vloss = running_vloss / (i + 1)\n",
    "    print('LOSS train {} valid {}'.format(avg_loss, avg_vloss))\n",
    "\n",
    "    # Log the running loss averaged per batch\n",
    "    # for both training and validation\n",
    "    writer.add_scalars('Training vs. Validation Loss',\n",
    "                    { 'Training' : avg_loss, 'Validation' : avg_vloss },\n",
    "                    epoch_number + 1)\n",
    "    writer.flush()\n",
    "\n",
    "    # Track best performance, and save the model's state\n",
    "    if avg_vloss < best_vloss:\n",
    "        best_vloss = avg_vloss\n",
    "        model_path = 'model_{}_{}'.format(timestamp, epoch_number)\n",
    "        torch.save(model.state_dict(), model_path)\n",
    "        \n",
    "    epoch_number += 1"
   ]
  },
  {
   "cell_type": "code",
   "execution_count": 21,
   "id": "8098d56b-fc8f-4ef3-bc6a-3f655574c1b8",
   "metadata": {},
   "outputs": [
    {
     "data": {
      "text/plain": [
       "<All keys matched successfully>"
      ]
     },
     "execution_count": 21,
     "metadata": {},
     "output_type": "execute_result"
    }
   ],
   "source": [
    "# saved_model = GarmentClassifier()\n",
    "# saved_model.load_state_dict(torch.load(PATH))\n",
    "model.load_state_dict(torch.load(\"model_20230620_194453_0\"))"
   ]
  },
  {
   "cell_type": "code",
   "execution_count": 27,
   "id": "fb584dba-cb28-4138-9648-f738382d56eb",
   "metadata": {},
   "outputs": [
    {
     "name": "stdout",
     "output_type": "stream",
     "text": [
      "Got 2743 / 2787 with accuracy 98.42\n"
     ]
    }
   ],
   "source": [
    "def check_accuracy(loader, model):\n",
    "    num_correct = 0\n",
    "    num_samples = 0\n",
    "    model.eval()\n",
    "\n",
    "    with torch.no_grad():\n",
    "        for x, y in loader:\n",
    "            x = x\n",
    "            y = y\n",
    "            \n",
    "            scores = model(x).tolist()\n",
    "            for i, score in enumerate(scores):\n",
    "                if score[0] > .5:\n",
    "                    l = 1\n",
    "                else:\n",
    "                    l = 0\n",
    "                if l == int(y[i]):\n",
    "                    num_correct += 1\n",
    "                num_samples += 1\n",
    "        \n",
    "        print(f'Got {num_correct} / {num_samples} with accuracy {float(num_correct)/float(num_samples)*100:.2f}') \n",
    "    \n",
    "    model.train()\n",
    "\n",
    "check_accuracy(validation_loader, model)"
   ]
  },
  {
   "cell_type": "markdown",
   "id": "3efda2cf-3828-4c4a-9256-1702cd048eb0",
   "metadata": {},
   "source": [
    "Prediction"
   ]
  },
  {
   "cell_type": "code",
   "execution_count": 28,
   "id": "829f17ad-94bb-4aab-9dd5-a67ebc587afb",
   "metadata": {},
   "outputs": [],
   "source": [
    "from glob import glob\n",
    "jpg_files = glob(\"mfcc\\\\test\\\\*\\\\*.jpg\")"
   ]
  },
  {
   "cell_type": "code",
   "execution_count": 29,
   "id": "4024a8a3-4674-4e3b-be82-555b201045ac",
   "metadata": {
    "scrolled": true
   },
   "outputs": [],
   "source": [
    "l = list()\n",
    "for file in jpg_files:\n",
    "    l.append(file.split('\\\\')[-1][:-4])"
   ]
  },
  {
   "cell_type": "code",
   "execution_count": 30,
   "id": "c1252e5d-5aa4-443b-a772-18e9a6f57a2e",
   "metadata": {
    "scrolled": true
   },
   "outputs": [],
   "source": [
    "l2 = [0] * len(jpg_files)"
   ]
  },
  {
   "cell_type": "code",
   "execution_count": 32,
   "id": "6a27fd4c-3830-4cba-b443-cf9590707e4d",
   "metadata": {},
   "outputs": [],
   "source": [
    "predict_df = pd.DataFrame()\n",
    "predict_df['id'] = l\n",
    "predict_df['gender'] = l2"
   ]
  },
  {
   "cell_type": "code",
   "execution_count": 33,
   "id": "cf6a7d48-8fc4-4d48-8fdb-b86b1dd7d99c",
   "metadata": {},
   "outputs": [
    {
     "data": {
      "text/html": [
       "<div>\n",
       "<style scoped>\n",
       "    .dataframe tbody tr th:only-of-type {\n",
       "        vertical-align: middle;\n",
       "    }\n",
       "\n",
       "    .dataframe tbody tr th {\n",
       "        vertical-align: top;\n",
       "    }\n",
       "\n",
       "    .dataframe thead th {\n",
       "        text-align: right;\n",
       "    }\n",
       "</style>\n",
       "<table border=\"1\" class=\"dataframe\">\n",
       "  <thead>\n",
       "    <tr style=\"text-align: right;\">\n",
       "      <th></th>\n",
       "      <th>id</th>\n",
       "      <th>gender</th>\n",
       "    </tr>\n",
       "  </thead>\n",
       "  <tbody>\n",
       "    <tr>\n",
       "      <th>0</th>\n",
       "      <td>00100026dbdffcd01cde6ee9b9a9d273</td>\n",
       "      <td>0</td>\n",
       "    </tr>\n",
       "    <tr>\n",
       "      <th>1</th>\n",
       "      <td>0014278276a6cc05fe8c522af0a677df</td>\n",
       "      <td>0</td>\n",
       "    </tr>\n",
       "    <tr>\n",
       "      <th>2</th>\n",
       "      <td>0026e20266ceba9cdda2c116e89d2f3b</td>\n",
       "      <td>0</td>\n",
       "    </tr>\n",
       "    <tr>\n",
       "      <th>3</th>\n",
       "      <td>008b37fc832d3dfad9105961c5801c02</td>\n",
       "      <td>0</td>\n",
       "    </tr>\n",
       "    <tr>\n",
       "      <th>4</th>\n",
       "      <td>00b1d7d0d6fdb25050041f6e2ae2871e</td>\n",
       "      <td>0</td>\n",
       "    </tr>\n",
       "    <tr>\n",
       "      <th>...</th>\n",
       "      <td>...</td>\n",
       "      <td>...</td>\n",
       "    </tr>\n",
       "    <tr>\n",
       "      <th>3408</th>\n",
       "      <td>ffbea6a332d113f0bd16cf0b4ed07dc6</td>\n",
       "      <td>0</td>\n",
       "    </tr>\n",
       "    <tr>\n",
       "      <th>3409</th>\n",
       "      <td>ffee25334e0247dd07d80d0eb3ce7886</td>\n",
       "      <td>0</td>\n",
       "    </tr>\n",
       "    <tr>\n",
       "      <th>3410</th>\n",
       "      <td>fff86627949b37d236237ff895ff4268</td>\n",
       "      <td>0</td>\n",
       "    </tr>\n",
       "    <tr>\n",
       "      <th>3411</th>\n",
       "      <td>fff8aa9bac38e85734f64aad2b2f3814</td>\n",
       "      <td>0</td>\n",
       "    </tr>\n",
       "    <tr>\n",
       "      <th>3412</th>\n",
       "      <td>fff9ce1e4dc051383dc49e2f24547b56</td>\n",
       "      <td>0</td>\n",
       "    </tr>\n",
       "  </tbody>\n",
       "</table>\n",
       "<p>3413 rows × 2 columns</p>\n",
       "</div>"
      ],
      "text/plain": [
       "                                    id  gender\n",
       "0     00100026dbdffcd01cde6ee9b9a9d273       0\n",
       "1     0014278276a6cc05fe8c522af0a677df       0\n",
       "2     0026e20266ceba9cdda2c116e89d2f3b       0\n",
       "3     008b37fc832d3dfad9105961c5801c02       0\n",
       "4     00b1d7d0d6fdb25050041f6e2ae2871e       0\n",
       "...                                ...     ...\n",
       "3408  ffbea6a332d113f0bd16cf0b4ed07dc6       0\n",
       "3409  ffee25334e0247dd07d80d0eb3ce7886       0\n",
       "3410  fff86627949b37d236237ff895ff4268       0\n",
       "3411  fff8aa9bac38e85734f64aad2b2f3814       0\n",
       "3412  fff9ce1e4dc051383dc49e2f24547b56       0\n",
       "\n",
       "[3413 rows x 2 columns]"
      ]
     },
     "execution_count": 33,
     "metadata": {},
     "output_type": "execute_result"
    }
   ],
   "source": [
    "predict_df"
   ]
  },
  {
   "cell_type": "code",
   "execution_count": 35,
   "id": "c5c9de43-51aa-45a6-b4c7-1796fc3995c7",
   "metadata": {},
   "outputs": [
    {
     "data": {
      "text/plain": [
       "(tensor([[0.9994]], grad_fn=<SigmoidBackward0>),\n",
       " '00b1d7d0d6fdb25050041f6e2ae2871e')"
      ]
     },
     "execution_count": 35,
     "metadata": {},
     "output_type": "execute_result"
    }
   ],
   "source": [
    "model.eval()\n",
    "PATH = \"mfcc\\\\test\\\\test\\\\\"\n",
    "convert_tensor = torchvision.transforms.ToTensor()\n",
    "\n",
    "x = Image.open(PATH + predict_df.iloc[3]['id'] + '.jpg')\n",
    "x = convert_tensor(x)\n",
    "x = x[None, :]\n",
    "\n",
    "model_out = model(x)\n",
    "model_out, predict_df.iloc[4]['id']"
   ]
  },
  {
   "cell_type": "code",
   "execution_count": 36,
   "id": "6a7fc2d4-719c-4534-841e-e63377d9d820",
   "metadata": {
    "scrolled": true
   },
   "outputs": [],
   "source": [
    "model.eval()\n",
    "PATH = \"mfcc\\\\test\\\\test\\\\\"\n",
    "convert_tensor = torchvision.transforms.ToTensor()\n",
    "\n",
    "with torch.no_grad():\n",
    "    for i in range(len(predict_df)):\n",
    "        x = Image.open(PATH + predict_df.iloc[i]['id'] + '.jpg')\n",
    "        x = convert_tensor(x)\n",
    "        x = x[None, :]\n",
    "        model_out = model(x)\n",
    "        l = int(model_out.tolist()[0][0] > .5)\n",
    "        predict_df.at[i, 'gender'] = l\n",
    "   "
   ]
  },
  {
   "cell_type": "code",
   "execution_count": 37,
   "id": "10cbdb34-63ca-4c4d-92fb-111fd62748ae",
   "metadata": {},
   "outputs": [
    {
     "data": {
      "text/html": [
       "<div>\n",
       "<style scoped>\n",
       "    .dataframe tbody tr th:only-of-type {\n",
       "        vertical-align: middle;\n",
       "    }\n",
       "\n",
       "    .dataframe tbody tr th {\n",
       "        vertical-align: top;\n",
       "    }\n",
       "\n",
       "    .dataframe thead th {\n",
       "        text-align: right;\n",
       "    }\n",
       "</style>\n",
       "<table border=\"1\" class=\"dataframe\">\n",
       "  <thead>\n",
       "    <tr style=\"text-align: right;\">\n",
       "      <th></th>\n",
       "      <th>id</th>\n",
       "      <th>gender</th>\n",
       "    </tr>\n",
       "  </thead>\n",
       "  <tbody>\n",
       "    <tr>\n",
       "      <th>0</th>\n",
       "      <td>00100026dbdffcd01cde6ee9b9a9d273</td>\n",
       "      <td>1</td>\n",
       "    </tr>\n",
       "    <tr>\n",
       "      <th>1</th>\n",
       "      <td>0014278276a6cc05fe8c522af0a677df</td>\n",
       "      <td>1</td>\n",
       "    </tr>\n",
       "    <tr>\n",
       "      <th>2</th>\n",
       "      <td>0026e20266ceba9cdda2c116e89d2f3b</td>\n",
       "      <td>1</td>\n",
       "    </tr>\n",
       "    <tr>\n",
       "      <th>3</th>\n",
       "      <td>008b37fc832d3dfad9105961c5801c02</td>\n",
       "      <td>1</td>\n",
       "    </tr>\n",
       "    <tr>\n",
       "      <th>4</th>\n",
       "      <td>00b1d7d0d6fdb25050041f6e2ae2871e</td>\n",
       "      <td>0</td>\n",
       "    </tr>\n",
       "    <tr>\n",
       "      <th>...</th>\n",
       "      <td>...</td>\n",
       "      <td>...</td>\n",
       "    </tr>\n",
       "    <tr>\n",
       "      <th>3408</th>\n",
       "      <td>ffbea6a332d113f0bd16cf0b4ed07dc6</td>\n",
       "      <td>1</td>\n",
       "    </tr>\n",
       "    <tr>\n",
       "      <th>3409</th>\n",
       "      <td>ffee25334e0247dd07d80d0eb3ce7886</td>\n",
       "      <td>0</td>\n",
       "    </tr>\n",
       "    <tr>\n",
       "      <th>3410</th>\n",
       "      <td>fff86627949b37d236237ff895ff4268</td>\n",
       "      <td>0</td>\n",
       "    </tr>\n",
       "    <tr>\n",
       "      <th>3411</th>\n",
       "      <td>fff8aa9bac38e85734f64aad2b2f3814</td>\n",
       "      <td>0</td>\n",
       "    </tr>\n",
       "    <tr>\n",
       "      <th>3412</th>\n",
       "      <td>fff9ce1e4dc051383dc49e2f24547b56</td>\n",
       "      <td>1</td>\n",
       "    </tr>\n",
       "  </tbody>\n",
       "</table>\n",
       "<p>3413 rows × 2 columns</p>\n",
       "</div>"
      ],
      "text/plain": [
       "                                    id  gender\n",
       "0     00100026dbdffcd01cde6ee9b9a9d273       1\n",
       "1     0014278276a6cc05fe8c522af0a677df       1\n",
       "2     0026e20266ceba9cdda2c116e89d2f3b       1\n",
       "3     008b37fc832d3dfad9105961c5801c02       1\n",
       "4     00b1d7d0d6fdb25050041f6e2ae2871e       0\n",
       "...                                ...     ...\n",
       "3408  ffbea6a332d113f0bd16cf0b4ed07dc6       1\n",
       "3409  ffee25334e0247dd07d80d0eb3ce7886       0\n",
       "3410  fff86627949b37d236237ff895ff4268       0\n",
       "3411  fff8aa9bac38e85734f64aad2b2f3814       0\n",
       "3412  fff9ce1e4dc051383dc49e2f24547b56       1\n",
       "\n",
       "[3413 rows x 2 columns]"
      ]
     },
     "execution_count": 37,
     "metadata": {},
     "output_type": "execute_result"
    }
   ],
   "source": [
    "predict_df"
   ]
  },
  {
   "cell_type": "code",
   "execution_count": 38,
   "id": "363c6dcd-df70-4720-84b2-29298af23d82",
   "metadata": {},
   "outputs": [],
   "source": [
    "predict_df.to_csv('answers.tsv', sep=\"\\t\", index=False, header=False, encoding='utf-8')"
   ]
  },
  {
   "cell_type": "code",
   "execution_count": null,
   "id": "6700d3d1-ce27-4e5d-9777-b87499f4fb2f",
   "metadata": {},
   "outputs": [],
   "source": []
  }
 ],
 "metadata": {
  "kernelspec": {
   "display_name": "Python 3 (ipykernel)",
   "language": "python",
   "name": "python3"
  },
  "language_info": {
   "codemirror_mode": {
    "name": "ipython",
    "version": 3
   },
   "file_extension": ".py",
   "mimetype": "text/x-python",
   "name": "python",
   "nbconvert_exporter": "python",
   "pygments_lexer": "ipython3",
   "version": "3.9.7"
  }
 },
 "nbformat": 4,
 "nbformat_minor": 5
}
